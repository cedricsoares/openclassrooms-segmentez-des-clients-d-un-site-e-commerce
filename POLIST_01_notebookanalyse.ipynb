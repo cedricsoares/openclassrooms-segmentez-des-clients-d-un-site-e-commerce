version https://git-lfs.github.com/spec/v1
oid sha256:866c2378b56219a343260d8ac123da34651484560789853a3fe86bce60491ec0
size 3324258
