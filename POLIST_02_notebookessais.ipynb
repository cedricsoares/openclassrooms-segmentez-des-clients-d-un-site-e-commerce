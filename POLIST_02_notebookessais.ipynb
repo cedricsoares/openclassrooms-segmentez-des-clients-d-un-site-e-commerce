version https://git-lfs.github.com/spec/v1
oid sha256:cd053e3b192ba37d373a8f463f09433d1c6ba945a9350da3cb636e546844fc5d
size 3041296
