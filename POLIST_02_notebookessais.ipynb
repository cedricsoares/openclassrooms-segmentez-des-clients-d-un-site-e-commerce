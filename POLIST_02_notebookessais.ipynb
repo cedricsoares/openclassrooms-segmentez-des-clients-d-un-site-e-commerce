version https://git-lfs.github.com/spec/v1
oid sha256:e8c37cd8b0e76109e9b71326cd94f08759a6d6a45ad96b3c4e1a4913ae931f91
size 3041303
